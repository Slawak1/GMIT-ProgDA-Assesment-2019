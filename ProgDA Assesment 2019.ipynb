{
 "cells": [
  {
   "cell_type": "markdown",
   "metadata": {},
   "source": [
    "## Numpy.random package - Project 2019\n",
    "#### Programing and Scripting\n",
    "#### GMIT Galway\n",
    "#### Slawomir Sowa\n",
    "#### 04/10/2019"
   ]
  },
  {
   "cell_type": "markdown",
   "metadata": {},
   "source": [
    "<img src=\"img/logo1.png\">"
   ]
  },
  {
   "cell_type": "markdown",
   "metadata": {},
   "source": [
    "## 1. Introduction"
   ]
  },
  {
   "cell_type": "markdown",
   "metadata": {},
   "source": [
    "\"NumPy is a library for the Python programming language, adding support for large, multi-dimensional arrays and matrices, along with a large collection of high-level mathematical functions to operate on these arrays. The ancestor of NumPy, Numeric, was originally created by Jim Hugunin with contributions from several other developers. In 2005, Travis Oliphant created NumPy by incorporating features of the competing Numarray into Numeric, with extensive modifications. NumPy is open-source software and has many contributors.\"\n",
    "<p style=\"color:blue; font-style: italic;text-align:right\"><a href=\"https://en.wikipedia.org/wiki/NumPy\">Wikipedia</a></p>\n"
   ]
  },
  {
   "cell_type": "markdown",
   "metadata": {},
   "source": [
    "## 2. NumPy - installation"
   ]
  },
  {
   "cell_type": "markdown",
   "metadata": {},
   "source": [
    "#### Installing via Pip\n",
    "Python comes with an inbuilt package management system, <code>pip</code>. <code>Pip</code> can install, update, or delete any official package.\n",
    "You can install packages via the command line by entering:\n",
    "<code>python -m pip install --user numpy </code>"
   ]
  },
  {
   "cell_type": "markdown",
   "metadata": {},
   "source": [
    "#### Install System-wide via a Package Manager\n",
    "For Linux users:\n",
    "Ubuntu: <code>sudo apt-get install python-numpy </code> <br>\n",
    "Fedora: <code> sudo dnf install numpy </code><br>\n",
    "\n",
    "For Mac users: <code>sudo port install py35-numpy </code>\n",
    "\n"
   ]
  },
  {
   "cell_type": "markdown",
   "metadata": {},
   "source": [
    "## 3. NumPy - import modules\n",
    "To import NumPy module we can use code below:"
   ]
  },
  {
   "cell_type": "code",
   "execution_count": 2,
   "metadata": {},
   "outputs": [],
   "source": [
    "import numpy as np # NumPy package\n",
    "\n",
    "# import matplotlib for visualisation and charts\n",
    "import matplotlib.pyplot as plt \n"
   ]
  },
  {
   "cell_type": "markdown",
   "metadata": {},
   "source": [
    "## 4. Random sampling (numpy.random)\n",
    "\n",
    "The Python standard library contains the module random, which provides functions for generating single random numbers with a few basic distributions. The random module in the NumPy module provides similar functionality but offers functions that generate arrays with random numbers, and it has support for a wider selection of probability distributions. "
   ]
  },
  {
   "cell_type": "markdown",
   "metadata": {},
   "source": [
    "Numpy random module we can divide into four parts: <br>\n",
    "\n",
    "- Simple random data\n",
    "- Permutations\n",
    "- Distributions\n",
    "- Random generator\n"
   ]
  },
  {
   "cell_type": "markdown",
   "metadata": {},
   "source": [
    "### 4.1 Simple random data\n",
    "\n"
   ]
  },
  {
   "cell_type": "markdown",
   "metadata": {},
   "source": [
    "* <code>numpy.random.rand</code> - Create an array of the given shape and populate it with random samples from a uniform distribution over [0, 1)."
   ]
  },
  {
   "cell_type": "code",
   "execution_count": 7,
   "metadata": {},
   "outputs": [
    {
     "data": {
      "text/plain": [
       "0.9160749941582691"
      ]
     },
     "execution_count": 7,
     "metadata": {},
     "output_type": "execute_result"
    }
   ],
   "source": [
    "np.random.rand() # enerates uniformly distributed floating-point numbers in the half-open interval [0, 1) \n",
    "                # (i.e., 0.0 is a possible outcome, but 1.0 is not). "
   ]
  },
  {
   "cell_type": "code",
   "execution_count": 4,
   "metadata": {},
   "outputs": [
    {
     "data": {
      "text/plain": [
       "array([[0.26366775, 0.2923007 ],\n",
       "       [0.15362611, 0.78612254]])"
      ]
     },
     "execution_count": 4,
     "metadata": {},
     "output_type": "execute_result"
    }
   ],
   "source": [
    "np.random.rand(2,2) # passing the shape of the array as arguments to these functions produces arrays of random numbers. "
   ]
  },
  {
   "cell_type": "markdown",
   "metadata": {},
   "source": [
    "* <code>numpy.random.randn</code> - function produces random numbers that are distributed according to the standard normal distribution (the normal distribution with mean 0 and standard deviation 1)"
   ]
  },
  {
   "cell_type": "code",
   "execution_count": 5,
   "metadata": {},
   "outputs": [
    {
     "data": {
      "text/plain": [
       "-0.41731206453778985"
      ]
     },
     "execution_count": 5,
     "metadata": {},
     "output_type": "execute_result"
    }
   ],
   "source": [
    "np.random.randn() # without any arguments returns float number"
   ]
  },
  {
   "cell_type": "code",
   "execution_count": 6,
   "metadata": {},
   "outputs": [
    {
     "data": {
      "text/plain": [
       "array([[0.32363019, 0.63050581, 0.08466775],\n",
       "       [0.72159932, 0.88989472, 0.33153085]])"
      ]
     },
     "execution_count": 6,
     "metadata": {},
     "output_type": "execute_result"
    }
   ],
   "source": [
    "np.random.rand(2,3) # The dimensions of the returned array, should be all positive."
   ]
  },
  {
   "cell_type": "markdown",
   "metadata": {},
   "source": [
    "* <code>numpy.random.randint(low, high=None, size=None, dtype='l')</code> - \n",
    "Return random integers from low (inclusive) to high (exclusive)."
   ]
  },
  {
   "cell_type": "code",
   "execution_count": 12,
   "metadata": {},
   "outputs": [
    {
     "data": {
      "text/plain": [
       "8"
      ]
     },
     "execution_count": 12,
     "metadata": {},
     "output_type": "execute_result"
    }
   ],
   "source": [
    "np.random.randint(10) # generates number from 0 to 10 (not included)"
   ]
  },
  {
   "cell_type": "code",
   "execution_count": null,
   "metadata": {},
   "outputs": [],
   "source": [
    "np.random.randint(4,10) # generates number from 4 (included) to 10 (excluded)"
   ]
  },
  {
   "cell_type": "code",
   "execution_count": 26,
   "metadata": {},
   "outputs": [
    {
     "data": {
      "text/plain": [
       "array([[6, 6],\n",
       "       [9, 5]])"
      ]
     },
     "execution_count": 26,
     "metadata": {},
     "output_type": "execute_result"
    }
   ],
   "source": [
    "np.random.randint(2,10,(2,2)) # size defines array shape"
   ]
  },
  {
   "cell_type": "markdown",
   "metadata": {},
   "source": [
    "To show that np.random.rand, np.random.randn and np.random.randint are distributed differently we cen plot a histogram"
   ]
  },
  {
   "cell_type": "code",
   "execution_count": 46,
   "metadata": {},
   "outputs": [
    {
     "data": {
      "text/plain": [
       "(array([1071., 1139., 1086., 1134., 1092., 1160., 1123., 1100., 1095.]),\n",
       " array([1.        , 1.88888889, 2.77777778, 3.66666667, 4.55555556,\n",
       "        5.44444444, 6.33333333, 7.22222222, 8.11111111, 9.        ]),\n",
       " <a list of 9 Patch objects>)"
      ]
     },
     "execution_count": 46,
     "metadata": {},
     "output_type": "execute_result"
    },
    {
     "data": {
      "image/png": "[encoded data removed]",
      "text/plain": [
       "<Figure size 1152x360 with 3 Axes>"
      ]
     },
     "metadata": {
      "needs_background": "light"
     },
     "output_type": "display_data"
    }
   ],
   "source": [
    "# Distribution for 10000 random numbers generated by the rand, randn, and randint functions in NumPy’s random module\n",
    "# (Numerical Python, 2nd Edition, Robert Johansson, 2019 )\n",
    "\n",
    "fig, axes = plt.subplots(1,3, figsize = (16,5))\n",
    "axes[0].set_title('np.random.rand')\n",
    "axes[1].set_title('np.random.randn')\n",
    "axes[2].set_title('no.random.randint')\n",
    "axes[0].hist(np.random.rand(10000))\n",
    "axes[1].hist(np.random.randn(10000))\n",
    "axes[2].hist(np.random.randint(1,10,10000), bins=9, align='left')\n"
   ]
  },
  {
   "cell_type": "markdown",
   "metadata": {},
   "source": [
    "* <code> numpy.random.random_sample(size=None)</code> - Return random floats in the half-open interval [0.0, 1.0)."
   ]
  },
  {
   "cell_type": "code",
   "execution_count": 16,
   "metadata": {},
   "outputs": [
    {
     "data": {
      "text/plain": [
       "0.7145923800612592"
      ]
     },
     "execution_count": 16,
     "metadata": {},
     "output_type": "execute_result"
    }
   ],
   "source": [
    "np.random.random_sample() # return float number from 0.0 (included) to 1.0 (excluded) if no arguments provided"
   ]
  },
  {
   "cell_type": "code",
   "execution_count": 22,
   "metadata": {},
   "outputs": [
    {
     "data": {
      "text/plain": [
       "array([[0.44544365, 0.56816848],\n",
       "       [0.64240008, 0.12984418]])"
      ]
     },
     "execution_count": 22,
     "metadata": {},
     "output_type": "execute_result"
    }
   ],
   "source": [
    "np.random.random_sample((2,2)) # return array of float numbers - size of array as an argument"
   ]
  },
  {
   "cell_type": "code",
   "execution_count": 25,
   "metadata": {},
   "outputs": [
    {
     "data": {
      "text/plain": [
       "array([[7.35451465, 8.43236275],\n",
       "       [9.05220409, 8.34653578]])"
      ]
     },
     "execution_count": 25,
     "metadata": {},
     "output_type": "execute_result"
    }
   ],
   "source": [
    "5 * np.random.random_sample((2,2)) + 5"
   ]
  },
  {
   "cell_type": "code",
   "execution_count": null,
   "metadata": {},
   "outputs": [],
   "source": []
  },
  {
   "cell_type": "code",
   "execution_count": null,
   "metadata": {},
   "outputs": [],
   "source": []
  },
  {
   "cell_type": "code",
   "execution_count": null,
   "metadata": {},
   "outputs": [],
   "source": []
  },
  {
   "cell_type": "markdown",
   "metadata": {},
   "source": [
    "## Literature to Read\n",
    "https://machinelearningmastery.com/how-to-generate-random-numbers-in-python/ <br>\n",
    "https://www.sharpsightlabs.com/blog/numpy-random-seed/ <br>\n",
    "https://scipy-cookbook.readthedocs.io/items/CorrelatedRandomSamples.html<br>\n",
    "Numerical Python, 2nd Edition, cientific Computing and Data Science Applications with Numpy, SciPy and Matplotlib, Robert Johansson, 2019 "
   ]
  },
  {
   "cell_type": "code",
   "execution_count": null,
   "metadata": {},
   "outputs": [],
   "source": []
  }
 ],
 "metadata": {
  "kernelspec": {
   "display_name": "Python 3",
   "language": "python",
   "name": "python3"
  },
  "language_info": {
   "codemirror_mode": {
    "name": "ipython",
    "version": 3
   },
   "file_extension": ".py",
   "mimetype": "text/x-python",
   "name": "python",
   "nbconvert_exporter": "python",
   "pygments_lexer": "ipython3",
   "version": "3.7.3"
  }
 },
 "nbformat": 4,
 "nbformat_minor": 2
}
