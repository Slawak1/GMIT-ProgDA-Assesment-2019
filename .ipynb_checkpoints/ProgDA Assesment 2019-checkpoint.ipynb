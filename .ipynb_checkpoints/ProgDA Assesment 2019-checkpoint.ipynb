{
 "cells": [
  {
   "cell_type": "markdown",
   "metadata": {},
   "source": [
    "# Numpy.random package - Project 2019\n",
    "#### Programming for Data Analysis\n",
    "#### GMIT Galway\n",
    "#### Slawomir Sowa\n",
    "#### 04/10/2019"
   ]
  },
  {
   "cell_type": "markdown",
   "metadata": {},
   "source": [
    "## Objectives:"
   ]
  },
  {
   "cell_type": "markdown",
   "metadata": {},
   "source": [
    "1. Explain the overall purpose of the package.\n",
    "2. Explain the use of the “Simple random data” and “Permutations” functions.\n",
    "3. Explain the use and purpose of at least five “Distributions” functions.\n",
    "4. Explain the use of seeds in generating pseudorandom numbers.\n",
    "\n",
    "Full description of Assigment  <a href=\"https://github.com/Slawak1/GMIT-ProgDA-Assesment-2019/blob/master/ProgDA_Assignment.pdf\">here</a>\n",
    "\n",
    "\n"
   ]
  },
  {
   "cell_type": "markdown",
   "metadata": {},
   "source": [
    "<img src=\"img/logo1.png\">"
   ]
  },
  {
   "cell_type": "markdown",
   "metadata": {},
   "source": [
    "## 1. Introduction"
   ]
  },
  {
   "cell_type": "markdown",
   "metadata": {},
   "source": [
    "\"NumPy is a library for the Python programming language, adding support for large, multi-dimensional arrays and matrices, along with a large collection of high-level mathematical functions to operate on these arrays. The ancestor of NumPy, Numeric, was originally created by Jim Hugunin with contributions from several other developers. In 2005, Travis Oliphant created NumPy by incorporating features of the competing Numarray into Numeric, with extensive modifications. NumPy is open-source software and has many contributors.\"\n",
    "<p style=\"color:blue; font-style: italic;text-align:right\"><a href=\"https://en.wikipedia.org/wiki/NumPy\">Wikipedia</a></p>\n"
   ]
  },
  {
   "cell_type": "markdown",
   "metadata": {},
   "source": [
    "## 2. NumPy - installation"
   ]
  },
  {
   "cell_type": "markdown",
   "metadata": {},
   "source": [
    "#### Installing via Pip\n",
    "Python comes with an inbuilt package management system, <code>pip</code>. <code>Pip</code> can install, update, or delete any official package.\n",
    "You can install packages via the command line by entering:\n",
    "<code>python -m pip install --user numpy </code>"
   ]
  },
  {
   "cell_type": "markdown",
   "metadata": {},
   "source": [
    "#### Install System-wide via a Package Manager\n",
    "For Linux users:\n",
    "Ubuntu: <code>sudo apt-get install python-numpy </code> <br>\n",
    "Fedora: <code> sudo dnf install numpy </code><br>\n",
    "\n",
    "For Mac users: <code>sudo port install py35-numpy </code>\n",
    "\n"
   ]
  },
  {
   "cell_type": "markdown",
   "metadata": {},
   "source": [
    "#### Version Checks\n"
   ]
  },
  {
   "cell_type": "markdown",
   "metadata": {},
   "source": [
    "It is always to good to know what version of numpy we are using. To do that we can use command <code>numpy.version.version</code>"
   ]
  },
  {
   "cell_type": "code",
   "execution_count": 1,
   "metadata": {},
   "outputs": [
    {
     "data": {
      "text/plain": [
       "'1.17.3'"
      ]
     },
     "execution_count": 1,
     "metadata": {},
     "output_type": "execute_result"
    }
   ],
   "source": [
    "import numpy as np\n",
    "np.version.version\n"
   ]
  },
  {
   "cell_type": "markdown",
   "metadata": {},
   "source": [
    "#### Numpy --upgrade"
   ]
  },
  {
   "cell_type": "markdown",
   "metadata": {},
   "source": [
    "New upgrades of numpy can improve stability and add new functionality. To upgrade Numpy to newest version we can use command:<br><code>pip install numpy --upgrade</code>"
   ]
  },
  {
   "cell_type": "markdown",
   "metadata": {},
   "source": [
    "## 3. NumPy - import modules\n",
    "To import NumPy module we can use code below:"
   ]
  },
  {
   "cell_type": "code",
   "execution_count": 2,
   "metadata": {},
   "outputs": [],
   "source": [
    "import numpy as np # NumPy package\n",
    "\n",
    "# import matplotlib and seabornfor visualisation and charts\n",
    "import matplotlib.pyplot as plt \n",
    "import seaborn as sns"
   ]
  },
  {
   "cell_type": "markdown",
   "metadata": {},
   "source": [
    "## 4. Random sampling (numpy.random)\n",
    "\n",
    "The Python standard library contains the module random, which provides functions for generating single random numbers with a few basic distributions. The random module in the NumPy module provides similar functionality but offers functions that generate arrays with random numbers, and it has support for a wider selection of probability distributions. "
   ]
  },
  {
   "cell_type": "markdown",
   "metadata": {},
   "source": [
    "Numpy random module we can divide into four parts: <br>\n",
    "\n",
    "- Simple random data\n",
    "- Permutations\n",
    "- Distributions\n",
    "- Random generator\n"
   ]
  },
  {
   "cell_type": "markdown",
   "metadata": {},
   "source": [
    "____________________________________"
   ]
  },
  {
   "cell_type": "markdown",
   "metadata": {},
   "source": [
    "### 4.1 Simple random data\n",
    "\n",
    "In this chapter I will explain Numpy build-in functions that allow us to generate random numbers. "
   ]
  },
  {
   "cell_type": "markdown",
   "metadata": {},
   "source": [
    "* <code>numpy.random.rand</code> - Create an array of the given shape and populate it with random samples from a uniform distribution over [0, 1)."
   ]
  },
  {
   "cell_type": "code",
   "execution_count": 3,
   "metadata": {},
   "outputs": [
    {
     "data": {
      "text/plain": [
       "0.02516810523581503"
      ]
     },
     "execution_count": 3,
     "metadata": {},
     "output_type": "execute_result"
    }
   ],
   "source": [
    "np.random.rand() # generates uniformly distributed floating-point numbers in the half-open interval [0, 1) \n",
    "                # (i.e., 0.0 is a possible outcome, but 1.0 is not). "
   ]
  },
  {
   "cell_type": "code",
   "execution_count": 4,
   "metadata": {},
   "outputs": [
    {
     "data": {
      "text/plain": [
       "array([[0.93634278, 0.54976299],\n",
       "       [0.15612447, 0.54992137]])"
      ]
     },
     "execution_count": 4,
     "metadata": {},
     "output_type": "execute_result"
    }
   ],
   "source": [
    "np.random.rand(2,2) # passing the shape of the array as arguments to these functions produces arrays of random numbers. "
   ]
  },
  {
   "cell_type": "markdown",
   "metadata": {},
   "source": [
    "___________________________________"
   ]
  },
  {
   "cell_type": "markdown",
   "metadata": {},
   "source": [
    "* <code>numpy.random.randn</code> - function produces random numbers that are distributed according to the standard normal distribution (the normal distribution with mean 0 and standard deviation 1)"
   ]
  },
  {
   "cell_type": "code",
   "execution_count": 5,
   "metadata": {},
   "outputs": [
    {
     "data": {
      "text/plain": [
       "-1.3476939929968557"
      ]
     },
     "execution_count": 5,
     "metadata": {},
     "output_type": "execute_result"
    }
   ],
   "source": [
    "np.random.randn() # without any arguments returns float number"
   ]
  },
  {
   "cell_type": "code",
   "execution_count": 6,
   "metadata": {},
   "outputs": [
    {
     "data": {
      "text/plain": [
       "array([[0.47188812, 0.81399643, 0.08350506],\n",
       "       [0.52262972, 0.18051641, 0.61778027]])"
      ]
     },
     "execution_count": 6,
     "metadata": {},
     "output_type": "execute_result"
    }
   ],
   "source": [
    "np.random.rand(2,3) # The dimensions of the returned array, should be all positive."
   ]
  },
  {
   "cell_type": "markdown",
   "metadata": {},
   "source": [
    "________________________________________"
   ]
  },
  {
   "cell_type": "markdown",
   "metadata": {},
   "source": [
    "* <code>numpy.random.randint(low, high=None, size=None, dtype='l')</code> - \n",
    "Return random integers from low (inclusive) to high (exclusive)."
   ]
  },
  {
   "cell_type": "code",
   "execution_count": 7,
   "metadata": {},
   "outputs": [
    {
     "data": {
      "text/plain": [
       "3"
      ]
     },
     "execution_count": 7,
     "metadata": {},
     "output_type": "execute_result"
    }
   ],
   "source": [
    "np.random.randint(10) # generates number from 0 to 10 (not included)"
   ]
  },
  {
   "cell_type": "code",
   "execution_count": 8,
   "metadata": {},
   "outputs": [
    {
     "data": {
      "text/plain": [
       "8"
      ]
     },
     "execution_count": 8,
     "metadata": {},
     "output_type": "execute_result"
    }
   ],
   "source": [
    "np.random.randint(4,10) # generates number from 4 (included) to 10 (excluded)"
   ]
  },
  {
   "cell_type": "code",
   "execution_count": 9,
   "metadata": {},
   "outputs": [
    {
     "data": {
      "text/plain": [
       "array([[9, 3],\n",
       "       [9, 4]])"
      ]
     },
     "execution_count": 9,
     "metadata": {},
     "output_type": "execute_result"
    }
   ],
   "source": [
    "np.random.randint(2,10,(2,2)) # size defines array shape"
   ]
  },
  {
   "cell_type": "markdown",
   "metadata": {},
   "source": [
    "To show that np.random.rand, np.random.randn and np.random.randint are distributed differently we cen plot a histogram"
   ]
  },
  {
   "cell_type": "code",
   "execution_count": 128,
   "metadata": {},
   "outputs": [
    {
     "data": {
      "text/plain": [
       "<matplotlib.axes._subplots.AxesSubplot at 0x1f70b2c6b08>"
      ]
     },
     "execution_count": 128,
     "metadata": {},
     "output_type": "execute_result"
    },
    {
     "data": {
      "image/png": "[encoded data removed]",
      "text/plain": [
       "<Figure size 1152x360 with 3 Axes>"
      ]
     },
     "metadata": {},
     "output_type": "display_data"
    }
   ],
   "source": [
    "# Distribution for 10000 random numbers generated by the rand, randn, and randint functions in NumPy’s random module\n",
    "# (Numerical Python, 2nd Edition, Robert Johansson, 2019 )\n",
    "\n",
    "fig, axes = plt.subplots(1,3, figsize = (16,5))\n",
    "axes[0].set_title('np.random.rand', fontsize='18')\n",
    "axes[1].set_title('np.random.randn', fontsize='18')\n",
    "axes[2].set_title('np.random.randint', fontsize='18')\n",
    "\n",
    "sns.distplot(np.random.rand(10000), hist=True, color=\"g\",  kde_kws={\"shade\": True}, ax = axes[0])\n",
    "sns.distplot(np.random.randn(10000), hist=True, color=\"r\", kde_kws={\"shade\": True}, ax = axes[1])\n",
    "sns.distplot(np.random.randint(1,100,10000), hist=True, color=\"b\",  kde_kws={\"shade\": True}, ax = axes[2])\n",
    "\n"
   ]
  },
  {
   "cell_type": "markdown",
   "metadata": {},
   "source": [
    "___________________________________"
   ]
  },
  {
   "cell_type": "markdown",
   "metadata": {},
   "source": [
    "* <code> numpy.random.random_sample(size=None)</code> - Return random floats in the half-open interval [0.0, 1.0)\n",
    "In general The only difference between <code> numpy.random.rand</code> and <code>numpy.random.random_sample</code>  is in how the arguments are handled. With numpy.random.rand, the length of each dimension of the output array is a separate argument. With numpy.random.random_sample, the shape argument is a single tuple."
   ]
  },
  {
   "cell_type": "code",
   "execution_count": 11,
   "metadata": {},
   "outputs": [
    {
     "data": {
      "text/plain": [
       "0.32831694625622443"
      ]
     },
     "execution_count": 11,
     "metadata": {},
     "output_type": "execute_result"
    }
   ],
   "source": [
    "np.random.random_sample() # return float number from 0.0 (included) to 1.0 (excluded) if no arguments provided"
   ]
  },
  {
   "cell_type": "code",
   "execution_count": 12,
   "metadata": {},
   "outputs": [
    {
     "data": {
      "text/plain": [
       "array([[0.34807419, 0.22539387],\n",
       "       [0.43698156, 0.55549919]])"
      ]
     },
     "execution_count": 12,
     "metadata": {},
     "output_type": "execute_result"
    }
   ],
   "source": [
    "np.random.random_sample((2,2)) # return array of float numbers - size of array as an argument"
   ]
  },
  {
   "cell_type": "code",
   "execution_count": 13,
   "metadata": {},
   "outputs": [
    {
     "data": {
      "text/plain": [
       "array([[7.19211511, 9.68759819],\n",
       "       [8.13546276, 9.14958058]])"
      ]
     },
     "execution_count": 13,
     "metadata": {},
     "output_type": "execute_result"
    }
   ],
   "source": [
    "5 * np.random.random_sample((2,2)) + 5"
   ]
  },
  {
   "cell_type": "markdown",
   "metadata": {},
   "source": [
    "___________________________________"
   ]
  },
  {
   "cell_type": "markdown",
   "metadata": {},
   "source": [
    "We can ask Numpy to pick the random number from array for us: <br>\n",
    "* <code>  numpy.random.choice(a, size=None, replace=True, p=None)</code> Generates a random sample from a given 1-D array"
   ]
  },
  {
   "cell_type": "code",
   "execution_count": 14,
   "metadata": {},
   "outputs": [
    {
     "data": {
      "text/plain": [
       "array([4, 8, 7, 6, 0])"
      ]
     },
     "execution_count": 14,
     "metadata": {},
     "output_type": "execute_result"
    }
   ],
   "source": [
    "# Sample five unique (without replacement) items from the set of integers between 0 (inclusive) and 10 (exclusive)\n",
    "# Parameters:\n",
    "# a - 1-D array-like or int\n",
    "# size - int or tuple of ints, optional\n",
    "# replace : boolean, optional - Whether the sample is with or without replacement\n",
    "# p - 1-D array-like, optional - The probabilities associated with each entry in a. \n",
    "#     if not given the sample assumes a uniform distribution over all entries in a.\n",
    "\n",
    "np.random.choice(10,5,replace=False)"
   ]
  },
  {
   "cell_type": "code",
   "execution_count": 15,
   "metadata": {},
   "outputs": [
    {
     "data": {
      "text/plain": [
       "array([ 0,  1,  2,  3,  4,  5,  6,  7,  8,  9, 10, 11, 12, 13, 14])"
      ]
     },
     "execution_count": 15,
     "metadata": {},
     "output_type": "execute_result"
    }
   ],
   "source": [
    "# Lets generate some_list \n",
    "some_list = np.arange(15)\n",
    "some_list"
   ]
  },
  {
   "cell_type": "code",
   "execution_count": 16,
   "metadata": {},
   "outputs": [
    {
     "data": {
      "text/plain": [
       "array([14, 13, 13,  0,  5, 12, 13, 13,  2,  4])"
      ]
     },
     "execution_count": 16,
     "metadata": {},
     "output_type": "execute_result"
    }
   ],
   "source": [
    "# Example of numpy.random.choice with 1-D array as an argument \n",
    "np.random.choice(some_list,10, replace = True)"
   ]
  },
  {
   "cell_type": "markdown",
   "metadata": {},
   "source": [
    "As we can see <code> replace</code> argument set to <code>True</code> allow function to choose the same number multiple times."
   ]
  },
  {
   "cell_type": "code",
   "execution_count": 17,
   "metadata": {},
   "outputs": [
    {
     "data": {
      "text/plain": [
       "array(['Green'], dtype='<U6')"
      ]
     },
     "execution_count": 17,
     "metadata": {},
     "output_type": "execute_result"
    }
   ],
   "source": [
    "another_list = ['Brown','Green','Yellow','Orange','Red','Black']\n",
    "np.random.choice(another_list,1)"
   ]
  },
  {
   "cell_type": "markdown",
   "metadata": {},
   "source": [
    "We can also use <code>numpy.random.choice</code> to pick item from non-numerical data. "
   ]
  },
  {
   "cell_type": "markdown",
   "metadata": {},
   "source": [
    "__________________________"
   ]
  },
  {
   "cell_type": "markdown",
   "metadata": {},
   "source": [
    "* <code>numpy.random.bytes(length)</code> Return random bytes."
   ]
  },
  {
   "cell_type": "code",
   "execution_count": 18,
   "metadata": {},
   "outputs": [
    {
     "data": {
      "text/plain": [
       "b'\\xd1\\xba\\x19\\x7f\\xc2\\xc0#\\xbe\\xdd,'"
      ]
     },
     "execution_count": 18,
     "metadata": {},
     "output_type": "execute_result"
    }
   ],
   "source": [
    "# Parameter: int - length \n",
    "np.random.bytes(10)\n",
    "# Returns: str "
   ]
  },
  {
   "cell_type": "markdown",
   "metadata": {},
   "source": [
    "### 4.2.Permutations\n",
    "A permutation is a rearrangement of the elements in array. Numpy has two functions in that category:\n",
    "* <code> numpy.random.shuffle()</code>\n",
    "* <code> numpy.random.permutation()</code>\n"
   ]
  },
  {
   "cell_type": "markdown",
   "metadata": {},
   "source": [
    "________________________________________________"
   ]
  },
  {
   "cell_type": "markdown",
   "metadata": {},
   "source": [
    "* <code> numpy.random.shuffle(x)</code> Modify a sequence in-place by shuffling its contents.\n",
    "\n",
    "This function shuffles the array along the first axis of a multi-dimensional array. The order of sub-arrays is changed but their contents remains the same."
   ]
  },
  {
   "cell_type": "code",
   "execution_count": 19,
   "metadata": {},
   "outputs": [
    {
     "data": {
      "text/plain": [
       "array([0, 1, 2, 3, 4, 5, 6, 7, 8, 9])"
      ]
     },
     "execution_count": 19,
     "metadata": {},
     "output_type": "execute_result"
    }
   ],
   "source": [
    "# Lets create 1-D array\n",
    "array = np.arange(10)\n",
    "array"
   ]
  },
  {
   "cell_type": "code",
   "execution_count": 20,
   "metadata": {},
   "outputs": [
    {
     "data": {
      "text/plain": [
       "array([6, 7, 0, 8, 2, 4, 5, 3, 1, 9])"
      ]
     },
     "execution_count": 20,
     "metadata": {},
     "output_type": "execute_result"
    }
   ],
   "source": [
    "# Parameter: x : array_like - The array or list to be shuffled.\n",
    "np.random.shuffle(array)\n",
    "array"
   ]
  },
  {
   "cell_type": "markdown",
   "metadata": {},
   "source": [
    "As we can see above <code>np.arage.shuffle()</code> overvrites original order in array"
   ]
  },
  {
   "cell_type": "code",
   "execution_count": 21,
   "metadata": {},
   "outputs": [
    {
     "data": {
      "text/plain": [
       "array([[0, 1, 2],\n",
       "       [3, 4, 5],\n",
       "       [6, 7, 8]])"
      ]
     },
     "execution_count": 21,
     "metadata": {},
     "output_type": "execute_result"
    }
   ],
   "source": [
    "arr2d = np.arange(9).reshape(3,3)\n",
    "arr2d"
   ]
  },
  {
   "cell_type": "markdown",
   "metadata": {},
   "source": [
    "Multi-dimensional arrays are only shuffled along the first axis:"
   ]
  },
  {
   "cell_type": "code",
   "execution_count": 22,
   "metadata": {},
   "outputs": [
    {
     "data": {
      "text/plain": [
       "array([[3, 4, 5],\n",
       "       [6, 7, 8],\n",
       "       [0, 1, 2]])"
      ]
     },
     "execution_count": 22,
     "metadata": {},
     "output_type": "execute_result"
    }
   ],
   "source": [
    "np.random.shuffle(arr2d)\n",
    "arr2d"
   ]
  },
  {
   "cell_type": "markdown",
   "metadata": {},
   "source": [
    "____________________"
   ]
  },
  {
   "cell_type": "markdown",
   "metadata": {},
   "source": [
    "* <code> numpy.random.permutation(x)</code> - Randomly permute a sequence, or return a permuted range.\n",
    "\n",
    "If x is a multi-dimensional array, it is only shuffled along its first index."
   ]
  },
  {
   "cell_type": "code",
   "execution_count": 23,
   "metadata": {},
   "outputs": [
    {
     "data": {
      "text/plain": [
       "array([8, 3, 4, 1, 6, 5, 9, 2, 0, 7])"
      ]
     },
     "execution_count": 23,
     "metadata": {},
     "output_type": "execute_result"
    }
   ],
   "source": [
    "# Arguments: int or array, if passed an integer, it will return a shuffled range i.e. np.random.shuffle(np.arange(n))\n",
    "np.random.permutation(10)"
   ]
  },
  {
   "cell_type": "code",
   "execution_count": 24,
   "metadata": {},
   "outputs": [
    {
     "data": {
      "text/plain": [
       "array([0, 1, 2, 3, 4, 5, 6, 7, 8, 9])"
      ]
     },
     "execution_count": 24,
     "metadata": {},
     "output_type": "execute_result"
    }
   ],
   "source": [
    "# Let's create an array \n",
    "array = np.arange(10)\n",
    "array"
   ]
  },
  {
   "cell_type": "code",
   "execution_count": 25,
   "metadata": {},
   "outputs": [
    {
     "data": {
      "text/plain": [
       "array([0, 1, 8, 4, 9, 3, 7, 6, 2, 5])"
      ]
     },
     "execution_count": 25,
     "metadata": {},
     "output_type": "execute_result"
    }
   ],
   "source": [
    "# To change order in array we can use random.premutation() function \n",
    "np.random.permutation(array)"
   ]
  },
  {
   "cell_type": "code",
   "execution_count": 26,
   "metadata": {},
   "outputs": [
    {
     "data": {
      "text/plain": [
       "array([0, 1, 2, 3, 4, 5, 6, 7, 8, 9])"
      ]
     },
     "execution_count": 26,
     "metadata": {},
     "output_type": "execute_result"
    }
   ],
   "source": [
    "# when calling the original array, we see that it remains in its original state.\n",
    "array"
   ]
  },
  {
   "cell_type": "markdown",
   "metadata": {},
   "source": [
    "<code>np.random.permutation()</code> creates a copy of array, where <code>numpy.random.shuffle</code> overwrites original order.\n"
   ]
  },
  {
   "cell_type": "markdown",
   "metadata": {},
   "source": [
    "### 4.3. Distributions\n",
    "A probability distribution is a mathematical function that provides the probabilities of occurrence of different possible outcomes.<br> Numpy proivide many usefull built-in distributions. Bellow I will describe 5 of them:\n",
    "* Binomial Distribution\n",
    "* Poisson Distribution\n",
    "* Normal Distribution\n",
    "* Chisquare Distribution\n",
    "* Uniform Distribution"
   ]
  },
  {
   "cell_type": "markdown",
   "metadata": {},
   "source": [
    "### 4.3.1 Binomial Distribution \n",
    "<code> numpy.random.binomial(n, p, size=None)</code>"
   ]
  },
  {
   "cell_type": "markdown",
   "metadata": {},
   "source": [
    "\n",
    "<b>n</b> : int or array_like of ints - Parameter of the distribution, >= 0. Floats are also accepted, but they will be truncated to integers. <br>\n",
    "<b>p</b> : float or array_like of floats - Parameter of the distribution, >= 0 and <=1. <br>\n",
    "<b>size</b> : int or tuple of ints, optional\n",
    "\n"
   ]
  },
  {
   "cell_type": "markdown",
   "metadata": {},
   "source": [
    "#### Question:\n",
    "* How many times will this coin land heads?\n",
    "* From the children born in a given hospital on a given day, how many of them willbe girls?\n",
    "* How many students in a given classroom will have green eyes?\n"
   ]
  },
  {
   "cell_type": "markdown",
   "metadata": {},
   "source": [
    "The binomial distribution model is the number of successes in an integer number of independent trials of an experiment, where the probability of success in each experiment is a fixed number. In general, the  binomial distribution is associated with the question “Out of a given (fixed) number of trials, how many will succeed?”<br>\n",
    "We can describe Probability distribution as:\n",
    "\n",
    "$$\n",
    "P|X=k|={n \\choose k} p^k (1-p)^{ n-k} \\qquad  0\\leq p \\leq 1, \\qquad n \\in N\n",
    "$$\n",
    "\n",
    "and\n",
    "\n",
    "$$\n",
    "{n \\choose k} = \\frac{n!}{k!(n-k)!}\n",
    "$$"
   ]
  },
  {
   "cell_type": "markdown",
   "metadata": {},
   "source": [
    "Where:\n",
    "$n$ - The number of trials,\n",
    "$p$ - The probability of success in each trial,\n",
    "$k$ - Number of successes\n"
   ]
  },
  {
   "cell_type": "code",
   "execution_count": 87,
   "metadata": {},
   "outputs": [
    {
     "data": {
      "text/plain": [
       "Text(0, 0.5, '$ P(k) $')"
      ]
     },
     "execution_count": 87,
     "metadata": {},
     "output_type": "execute_result"
    },
    {
     "data": {
      "image/png": "[encoded data removed]",
      "text/plain": [
       "<Figure size 1080x576 with 1 Axes>"
      ]
     },
     "metadata": {},
     "output_type": "display_data"
    }
   ],
   "source": [
    "# Binomial distribution with 10 trials and probability 0.5 each trial. \n",
    "fig = np.random.binomial(10, 0.5, 10000)\n",
    "\n",
    "plt.figure(figsize=(15,8))\n",
    "ax = sns.distplot(fig)\n",
    "ax.set_title('Binomial Distribution with $ p = 0.5 $', fontsize='18')\n",
    "plt.xlabel('Number of Success $ k $ ', fontsize='18')\n",
    "plt.ylabel('$ P(k) $', fontsize='18')\n"
   ]
  },
  {
   "cell_type": "markdown",
   "metadata": {},
   "source": [
    "### 4.3.2 Poisson Distribution\n",
    "<code> numpy.random.poisson(lam=1.0, size=None)</code>"
   ]
  },
  {
   "cell_type": "markdown",
   "metadata": {},
   "source": [
    "<b>Parameters</b>:\n",
    "\n",
    "<b>lam</b> : float or array_like of floats - expectation of interval, should be >= 0. A sequence of expectation intervals must be broadcastable over the requested size.<br>\n",
    "<b>size</b> : int or tuple of ints, optional"
   ]
  },
  {
   "cell_type": "markdown",
   "metadata": {},
   "source": [
    "#### Questions:\n",
    "* How many pennies will I encounter on my walk home?\n",
    "* How many children will be delivered at the hospital today? \n",
    "* How many products will I sell after releasing new add?"
   ]
  },
  {
   "cell_type": "markdown",
   "metadata": {},
   "source": [
    "$$\n",
    "f(k; \\lambda)=\\frac{\\lambda^k e^{-\\lambda}}{k!}\n",
    "$$\n",
    "\n",
    "Where: $k$ -  is the number of times an event occurs in an interval and k can take values 0, 1, 2, ...., $e$ is the number 2.71828... (Euler's number) the base of the natural logarithms, $\\lambda$ - is the average number of events per interval"
   ]
  },
  {
   "cell_type": "markdown",
   "metadata": {},
   "source": [
    "In Poisson Distribution we are examining the number of times an event happens. It is very similat to the binomial distribution where we looked at how many times success occured over a fixed total number of trials, the Poisson \n",
    "distribution measures how many times a event occurs, over a period of continuous space or time."
   ]
  },
  {
   "cell_type": "code",
   "execution_count": 90,
   "metadata": {},
   "outputs": [
    {
     "data": {
      "text/plain": [
       "Text(0, 0.5, '$P(k)$')"
      ]
     },
     "execution_count": 90,
     "metadata": {},
     "output_type": "execute_result"
    },
    {
     "data": {
      "image/png": "[encoded data removed]",
      "text/plain": [
       "<Figure size 1080x576 with 1 Axes>"
      ]
     },
     "metadata": {},
     "output_type": "display_data"
    }
   ],
   "source": [
    "# Poisson Distribution for Lambda = 100 and size = 10000\n",
    "fig = np.random.poisson(100, size = 10000)\n",
    "plt.figure(figsize=(15,8))\n",
    "ax = sns.distplot(fig)\n",
    "ax.set_title('Poisson Distribution for $ \\lambda $ = 100', fontsize='18')\n",
    "plt.xlabel('$k$', fontsize='18')\n",
    "plt.ylabel('$P(k)$', fontsize='18')\n"
   ]
  },
  {
   "cell_type": "markdown",
   "metadata": {},
   "source": [
    "### 4.3.3 Normal Distribution\n",
    "<code>numpy.random.normal(loc=0.0, scale=1.0, size=None)</code>"
   ]
  },
  {
   "cell_type": "markdown",
   "metadata": {},
   "source": [
    "<b>Parameters</b>:\n",
    "\n",
    "<b>loc</b> : float or array_like of floats - Mean (“centre”) of the distribution.<br>\n",
    "<b>scale</b> : float or array_like of floats - Standard deviation (spread or “width”) of the distribution.<br>\n",
    "<b>size</b> : int or tuple of ints, optional"
   ]
  },
  {
   "cell_type": "markdown",
   "metadata": {},
   "source": [
    "Normal distribution, also known as the Gaussian distribution, is a probability distribution that is symmetric about the mean, showing that data near the mean are more frequent in occurrence than data far from the mean. In graph form, normal distribution will appear as a bell curve.\n",
    "\n",
    "The normal distribution is the most common type of distribution assumed in technical stock market analysis and in other types of statistical analyses. The standard normal distribution has two parameters: the mean and the standard deviation. For a normal distribution, 68% of the observations are within +/- one standard deviation of the mean, 95% are within +/- two standard deviations, and 99.7% are within +- three standard deviations.\n",
    "\n",
    "https://www.investopedia.com/terms/n/normaldistribution.asp\n",
    "\n",
    "<img src=\"img/normal_dist.png\">\n",
    "\n",
    "The probability density for the Gaussian distribution is:"
   ]
  },
  {
   "cell_type": "markdown",
   "metadata": {},
   "source": [
    "$$\n",
    "p(x) = \\frac{1}{\\sqrt{ 2 \\pi \\sigma^2 }} e^{ - \\frac{ (x - \\mu)^2 } {2 \\sigma^2} },\n",
    "$$"
   ]
  },
  {
   "cell_type": "markdown",
   "metadata": {},
   "source": [
    "\n",
    "where $\\mu$ is the mean and $\\sigma$ the standard deviation. The square of the standard deviation, $\\sigma^2$, is called the variance, $e$ is the number 2.71828... (Euler's number) the base of the natural logarithms.\n",
    "\n"
   ]
  },
  {
   "cell_type": "code",
   "execution_count": 97,
   "metadata": {},
   "outputs": [
    {
     "data": {
      "text/plain": [
       "Text(0, 0.5, 'P(x)')"
      ]
     },
     "execution_count": 97,
     "metadata": {},
     "output_type": "execute_result"
    },
    {
     "data": {
      "image/png": "[encoded data removed]",
      "text/plain": [
       "<Figure size 720x720 with 1 Axes>"
      ]
     },
     "metadata": {},
     "output_type": "display_data"
    }
   ],
   "source": [
    "# https://seaborn.pydata.org/examples/distplot_options.html\n",
    "\n",
    "x = np.random.normal(0,2, 50000)\n",
    "y = np.random.normal(5,2.5, 50000)\n",
    "z = np.random.normal(10,5, 50000)\n",
    "\n",
    "\n",
    "sns.set(style=\"white\", palette=\"muted\", color_codes=True)\n",
    "f, axes = plt.subplots(figsize=(10, 10), sharex=True)\n",
    "\n",
    "sns.distplot(x, hist=False, color=\"g\", label = '$\\mu$ = 0, $\\sigma$ = 2 ', kde_kws={\"shade\": True})\n",
    "sns.distplot(y, hist=False, color=\"r\", label = '$\\mu$ = 5, $\\sigma$ = 2.5 ', kde_kws={\"shade\": True})\n",
    "sns.distplot(z, hist=False, color=\"b\", label = '$\\mu$ = 10, $\\sigma$ = 5 ', kde_kws={\"shade\": True})\n",
    "axes.legend(fontsize='18')\n",
    "axes.set_title('Normal Distribution', fontsize='18')\n",
    "plt.xlabel('x', fontsize='18')\n",
    "plt.ylabel('P(x)', fontsize='18')\n",
    "\n"
   ]
  },
  {
   "cell_type": "markdown",
   "metadata": {},
   "source": [
    "### 4.3.4 Chisquare Distribution\n",
    "<code>numpy.random.chisquare(df, size=None)</code>"
   ]
  },
  {
   "cell_type": "markdown",
   "metadata": {},
   "source": [
    "<b>Parameters</b>:\n",
    "\n",
    "<b>df</b> : float or array_like of floats - Number of degrees of freedom, should be > 0.<br>\n",
    "<b>size</b> : int or tuple of ints, optional"
   ]
  },
  {
   "cell_type": "markdown",
   "metadata": {},
   "source": [
    "The chi-square distribution is related to the normal distribution in a simple way: if\n",
    "a random variable X has a normal distribution $(X \\in N(0,1)$, then $X^2$ has a chisquare distribution, with one degree of freedom $(X^2 \\in \\chi_{1}^{2})$.\n",
    "\n",
    " The sum squares of $n$ independent and standard normal random variables have a chi-square distribution\n",
    "with $n$ degrees of freedom:"
   ]
  },
  {
   "cell_type": "markdown",
   "metadata": {},
   "source": [
    "$$\n",
    "\\sum_{i=0}^{\\mathtt{n}} X^2_i \\in \\chi_{n}^2\n",
    "$$"
   ]
  },
  {
   "cell_type": "markdown",
   "metadata": {},
   "source": [
    "The degrees of freedom of an estimate is the number of independent pieces of information that go into the estimate. In general, the degrees of freedom for an estimate is equal to the number of values minus the number of parameters estimated en route to the estimate in question. For example, to estimate the population variance, one must first estimate the population mean. Therefore, if the estimate of variance is based on N observations, there are $N - 1$ degrees of freedom. <br>\n",
    "http://onlinestatbook.com/2/chi_square/distribution.html"
   ]
  },
  {
   "cell_type": "code",
   "execution_count": 103,
   "metadata": {},
   "outputs": [
    {
     "data": {
      "text/plain": [
       "Text(0, 0.5, 'P(x)')"
      ]
     },
     "execution_count": 103,
     "metadata": {},
     "output_type": "execute_result"
    },
    {
     "data": {
      "image/png": "[encoded data removed]",
      "text/plain": [
       "<Figure size 720x720 with 1 Axes>"
      ]
     },
     "metadata": {},
     "output_type": "display_data"
    }
   ],
   "source": [
    "x = np.random.chisquare(2, 50000)\n",
    "y = np.random.chisquare(5, 50000)\n",
    "z = np.random.chisquare(10, 50000)\n",
    "\n",
    "\n",
    "sns.set(style=\"white\", palette=\"muted\", color_codes=True)\n",
    "f, axes = plt.subplots(figsize=(10, 10), sharex=True)\n",
    "\n",
    "sns.distplot(x, hist=False, color=\"g\", label = '$df$ = 2', kde_kws={\"shade\": True})\n",
    "sns.distplot(y, hist=False, color=\"r\", label = '$df$ = 5', kde_kws={\"shade\": True})\n",
    "sns.distplot(z, hist=False, color=\"b\", label = '$df$ = 10', kde_kws={\"shade\": True})\n",
    "axes.legend(fontsize='18')\n",
    "axes.set_title('Chi-Square Distribution', fontsize='18')\n",
    "plt.xlabel('x', fontsize='18')\n",
    "plt.ylabel('P(x)', fontsize='18')\n"
   ]
  },
  {
   "cell_type": "markdown",
   "metadata": {},
   "source": [
    "The Chi Square distribution is very important because many test statistics are approximately distributed as Chi Square. Two of the more common tests using the Chi Square distribution are tests of deviations of differences between theoretically expected and observed frequencies (one-way tables) and the relationship between categorical variables (contingency tables). Numerous other tests beyond the scope of this work are based on the Chi Square distribution."
   ]
  },
  {
   "cell_type": "markdown",
   "metadata": {},
   "source": [
    "### 4.3.5 Triangular Distribution\n",
    "<code>numpy.random.triangular(left, mode, right, size=None)</code>"
   ]
  },
  {
   "cell_type": "markdown",
   "metadata": {},
   "source": [
    "<b>Parameters</b>:\n",
    "\n",
    "<b>left</b>: float or array_like of floats - Lower limit.<br>\n",
    "<b>mode</b> : float or array_like of floats - The value where the peak of the distribution occurs. The value should fulfill the condition <code>left <= mode <= right </code><br>\n",
    "<b>right</b> : float or array_like of floats - Upper limit, should be larger than left. <br>\n",
    "<b>size</b> : int or tuple of ints, optional"
   ]
  },
  {
   "cell_type": "markdown",
   "metadata": {},
   "source": [
    "Triangular distribution is defined by three values, left $(l)$ - minimum value, right $(r)$ - maximum value and mode $(m)$ - peak. Probability Density function is shaped like a triangle. In real life situations we can estimate the maximum and minimum values, and the most likely outcome, even if we don't know the mean and standard deviation. Is  often used in business decision making, particularly in simulations. "
   ]
  },
  {
   "cell_type": "markdown",
   "metadata": {},
   "source": [
    "The probability density function for the triangular distribution is:\n"
   ]
  },
  {
   "cell_type": "markdown",
   "metadata": {},
   "source": [
    "$$\n",
    "P(x;l, m, r) = \\begin{cases} \\frac{2(x-l)}{(r-l)(m-l)}& \\text{for $l \\leq x \\leq m$},\\\\ \\frac{2(r-x)}{(r-l)(r-m)}& \\text{for $m \\leq x \\leq r$},\\\\ 0& \\text{otherwise}. \\end{cases}\n",
    "$$"
   ]
  },
  {
   "cell_type": "markdown",
   "metadata": {},
   "source": [
    "The Probability density function of a triangular distribution is equal zero for values below $l$ and above $r$. \n",
    "\n"
   ]
  },
  {
   "cell_type": "code",
   "execution_count": 141,
   "metadata": {},
   "outputs": [
    {
     "data": {
      "text/plain": [
       "Text(0, 0.5, '$P(x)$')"
      ]
     },
     "execution_count": 141,
     "metadata": {},
     "output_type": "execute_result"
    },
    {
     "data": {
      "image/png": "[encoded data removed]",
      "text/plain": [
       "<Figure size 864x720 with 1 Axes>"
      ]
     },
     "metadata": {},
     "output_type": "display_data"
    }
   ],
   "source": [
    "x = np.random.triangular(1,9,12, 100000)\n",
    "f, axes = plt.subplots(figsize=(12, 10), sharex=True)\n",
    "sns.distplot(x, hist=True, color=\"g\", kde_kws={\"shade\": True})\n",
    "\n",
    "axes.set_title('Triangle Distribution', fontsize='18')\n",
    "plt.xlabel('$x$', fontsize='18')\n",
    "plt.ylabel('$P(x)$', fontsize='18')"
   ]
  },
  {
   "cell_type": "markdown",
   "metadata": {},
   "source": [
    "### 4.4 Random generator\n",
    "<code>numpy.random.seed(seed=None)</code>"
   ]
  },
  {
   "cell_type": "markdown",
   "metadata": {},
   "source": [
    "<b>Parameters</b>:\t\n",
    "\n",
    "<b>seed</b> : int or 1-d array_like, optional"
   ]
  },
  {
   "cell_type": "markdown",
   "metadata": {},
   "source": [
    "<code>np.random.seed()</code> function provides an input for the pseudo-random number generator in Python, because the random numbers generated by NumPy are 100% determined by the input and the pseudo -random number algorithm. "
   ]
  },
  {
   "cell_type": "markdown",
   "metadata": {},
   "source": [
    "Let's create 5 random numbers for 0 to 9. "
   ]
  },
  {
   "cell_type": "code",
   "execution_count": 147,
   "metadata": {},
   "outputs": [
    {
     "data": {
      "text/plain": [
       "array([5, 0, 3, 3, 7])"
      ]
     },
     "execution_count": 147,
     "metadata": {},
     "output_type": "execute_result"
    }
   ],
   "source": [
    "np.random.seed(0)\n",
    "np.random.randint(10, size=5)"
   ]
  },
  {
   "cell_type": "markdown",
   "metadata": {},
   "source": [
    "If we run that code again we get exact same numbers\n"
   ]
  },
  {
   "cell_type": "code",
   "execution_count": 149,
   "metadata": {},
   "outputs": [
    {
     "data": {
      "text/plain": [
       "array([5, 0, 3, 3, 7])"
      ]
     },
     "execution_count": 149,
     "metadata": {},
     "output_type": "execute_result"
    }
   ],
   "source": [
    "np.random.seed(0)\n",
    "np.random.randint(10, size=5)"
   ]
  },
  {
   "cell_type": "markdown",
   "metadata": {},
   "source": [
    "But if we change <code>np.random.seed()</code> parameter we get different result"
   ]
  },
  {
   "cell_type": "code",
   "execution_count": 150,
   "metadata": {},
   "outputs": [
    {
     "data": {
      "text/plain": [
       "array([5, 8, 9, 5, 0])"
      ]
     },
     "execution_count": 150,
     "metadata": {},
     "output_type": "execute_result"
    }
   ],
   "source": [
    "np.random.seed(1)\n",
    "np.random.randint(10, size=5)"
   ]
  },
  {
   "cell_type": "markdown",
   "metadata": {},
   "source": [
    "In general <code>np.random.seed()</code> doesn't work on its own. It works together with other Numpy Random functions. "
   ]
  },
  {
   "cell_type": "markdown",
   "metadata": {},
   "source": [
    "Worth to nitice that, if we provide the same seed, we will get the same output. "
   ]
  },
  {
   "cell_type": "code",
   "execution_count": null,
   "metadata": {},
   "outputs": [],
   "source": []
  },
  {
   "cell_type": "code",
   "execution_count": null,
   "metadata": {},
   "outputs": [],
   "source": []
  },
  {
   "cell_type": "code",
   "execution_count": null,
   "metadata": {},
   "outputs": [],
   "source": []
  },
  {
   "cell_type": "markdown",
   "metadata": {},
   "source": [
    "## References"
   ]
  },
  {
   "cell_type": "markdown",
   "metadata": {},
   "source": [
    "* \"Numerical Python, 2nd Edition, Scientific Computing and Data Science Applications with Numpy, SciPy and Matplotlib\", Robert Johansson, 2019\n"
   ]
  },
  {
   "cell_type": "markdown",
   "metadata": {},
   "source": [
    "* \"An Introduction to statistics with Python\", Thomas Haslwanter, 2016"
   ]
  },
  {
   "cell_type": "markdown",
   "metadata": {},
   "source": [
    "* \"Notes on triangle distributions\", Dr Nicola Ward Petty and Dr Shane Dye of Statistics Learning Centre: StatsLC.com,  2013"
   ]
  },
  {
   "cell_type": "markdown",
   "metadata": {},
   "source": [
    "* https://docs.scipy.org/doc/numpy-1.15.0/reference/routines.random.html"
   ]
  },
  {
   "cell_type": "markdown",
   "metadata": {},
   "source": [
    "* https://en.wikibooks.org/wiki/LaTeX/Mathematics"
   ]
  },
  {
   "cell_type": "markdown",
   "metadata": {},
   "source": [
    "* http://onlinestatbook.com/2/chi_square/distribution.html"
   ]
  },
  {
   "cell_type": "markdown",
   "metadata": {},
   "source": [
    "* https://www.investopedia.com/terms/n/normaldistribution.asp"
   ]
  },
  {
   "cell_type": "markdown",
   "metadata": {},
   "source": [
    "* https://en.wikipedia.org/wiki/Poisson_distribution"
   ]
  },
  {
   "cell_type": "markdown",
   "metadata": {},
   "source": [
    "* https://www.sharpsightlabs.com/blog/numpy-random-seed/"
   ]
  },
  {
   "cell_type": "code",
   "execution_count": null,
   "metadata": {},
   "outputs": [],
   "source": []
  },
  {
   "cell_type": "code",
   "execution_count": null,
   "metadata": {},
   "outputs": [],
   "source": []
  },
  {
   "cell_type": "code",
   "execution_count": null,
   "metadata": {},
   "outputs": [],
   "source": []
  },
  {
   "cell_type": "markdown",
   "metadata": {},
   "source": [
    "## Literature to Read\n",
    "https://machinelearningmastery.com/how-to-generate-random-numbers-in-python/ <br>\n",
    "https://www.sharpsightlabs.com/blog/numpy-random-seed/ <br>\n",
    "https://scipy-cookbook.readthedocs.io/items/CorrelatedRandomSamples.html<br>\n",
    "\n",
    "https://en.wikipedia.org/wiki/Poisson_distribution<br>\n",
    "Numerical Python, 2nd Edition, cientific Computing and Data Science Applications with Numpy, SciPy and Matplotlib, Robert Johansson, 2019 <br>\n",
    "An Introduction to statistics with Python, Thomas Haslwanter\n"
   ]
  },
  {
   "cell_type": "code",
   "execution_count": null,
   "metadata": {},
   "outputs": [],
   "source": []
  }
 ],
 "metadata": {
  "kernelspec": {
   "display_name": "Python 3",
   "language": "python",
   "name": "python3"
  },
  "language_info": {
   "codemirror_mode": {
    "name": "ipython",
    "version": 3
   },
   "file_extension": ".py",
   "mimetype": "text/x-python",
   "name": "python",
   "nbconvert_exporter": "python",
   "pygments_lexer": "ipython3",
   "version": "3.7.5"
  }
 },
 "nbformat": 4,
 "nbformat_minor": 2
}
