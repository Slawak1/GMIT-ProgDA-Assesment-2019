{
 "cells": [
  {
   "cell_type": "markdown",
   "metadata": {},
   "source": [
    "## Numpy.random package - Project 2019\n",
    "#### Programing and Scripting\n",
    "#### GMIT Galway\n",
    "#### Slawomir Sowa\n",
    "#### 04/10/2019"
   ]
  },
  {
   "cell_type": "markdown",
   "metadata": {},
   "source": [
    "<img src=\"img/logo1.png\">"
   ]
  },
  {
   "cell_type": "markdown",
   "metadata": {},
   "source": [
    "### Introduction"
   ]
  },
  {
   "cell_type": "markdown",
   "metadata": {},
   "source": [
    "\"NumPy is a library for the Python programming language, adding support for large, multi-dimensional arrays and matrices, along with a large collection of high-level mathematical functions to operate on these arrays. The ancestor of NumPy, Numeric, was originally created by Jim Hugunin with contributions from several other developers. In 2005, Travis Oliphant created NumPy by incorporating features of the competing Numarray into Numeric, with extensive modifications. NumPy is open-source software and has many contributors.\"\n",
    "<p style=\"color:blue; font-style: italic;text-align:right\"><a href=\"https://en.wikipedia.org/wiki/NumPy\">Wikipedia</a></p>\n"
   ]
  },
  {
   "cell_type": "markdown",
   "metadata": {},
   "source": [
    "### NumPy - installation"
   ]
  },
  {
   "cell_type": "markdown",
   "metadata": {},
   "source": [
    "#### Installing via Pip\n",
    "Python comes with an inbuilt package management system, <code>pip</code>. <code>Pip</code> can install, update, or delete any official package.\n",
    "You can install packages via the command line by entering:\n",
    "<code>python -m pip install --user numpy </code>"
   ]
  },
  {
   "cell_type": "markdown",
   "metadata": {},
   "source": [
    "#### Install System-wide via a Package Manager\n",
    "For Linux users:\n",
    "Ubuntu: <code>sudo apt-get install python-numpy </code> <br>\n",
    "Fedora: <code> sudo dnf install numpy </code><br>\n",
    "\n",
    "For Mac users: <code>sudo port install py35-numpy </code>\n",
    "\n"
   ]
  },
  {
   "cell_type": "markdown",
   "metadata": {},
   "source": [
    "### NumPy - modules\n",
    "To import NumPy ranom module we can use code below:"
   ]
  },
  {
   "cell_type": "code",
   "execution_count": 2,
   "metadata": {},
   "outputs": [],
   "source": [
    "import numpy as np # NumPy package\n",
    "\n",
    "# We will import matplotlib for visualisation and charts\n",
    "import matplotlib.pyplot as plt \n"
   ]
  },
  {
   "cell_type": "markdown",
   "metadata": {},
   "source": [
    "## Literature to Read\n",
    "https://machinelearningmastery.com/how-to-generate-random-numbers-in-python/ <br>\n",
    "https://www.sharpsightlabs.com/blog/numpy-random-seed/ <br>\n",
    "https://scipy-cookbook.readthedocs.io/items/CorrelatedRandomSamples.html"
   ]
  },
  {
   "cell_type": "code",
   "execution_count": null,
   "metadata": {},
   "outputs": [],
   "source": []
  }
 ],
 "metadata": {
  "kernelspec": {
   "display_name": "Python 3",
   "language": "python",
   "name": "python3"
  },
  "language_info": {
   "codemirror_mode": {
    "name": "ipython",
    "version": 3
   },
   "file_extension": ".py",
   "mimetype": "text/x-python",
   "name": "python",
   "nbconvert_exporter": "python",
   "pygments_lexer": "ipython3",
   "version": "3.7.3"
  }
 },
 "nbformat": 4,
 "nbformat_minor": 2
}
